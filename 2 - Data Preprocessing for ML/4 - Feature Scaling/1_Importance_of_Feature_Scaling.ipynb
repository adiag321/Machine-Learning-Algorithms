{
  "cells": [
    {
      "cell_type": "markdown",
      "metadata": {},
      "source": [
        "\n",
        "# <p align = 'center'>Importance of Feature Scaling</p>\n",
        "\n",
        "Feature scaling through standardization (or **Z-score normalization**)\n",
        "can be an important preprocessing step for many machine learning\n",
        "algorithms. Standardization involves rescaling the features such\n",
        "that they have the properties of a standard normal distribution\n",
        "with a mean of zero and a standard deviation of one.\n",
        "\n",
        "While many algorithms (such as `SVM, K-nearest neighbors, and logistic\n",
        "regression`) require features to be normalized, intuitively we can\n",
        "think of `Principle Component Analysis` (PCA) as being a prime example\n",
        "of when normalization is important. In PCA we are interested in the\n",
        "components that maximize the variance. If one component (e.g. human\n",
        "height) varies less than another (e.g. weight) because of their\n",
        "respective scales (meters vs. kilos), PCA might determine that the\n",
        "direction of maximal variance more closely corresponds with the\n",
        "'weight' axis, if those features are not scaled. As a change in\n",
        "height of one meter can be considered much more important than the\n",
        "change in weight of one kilogram, this is clearly incorrect.\n",
        "\n",
        "To illustrate this, class: `PCA <sklearn.decomposition.PCA>`\n",
        "is performed comparing the use of data with\n",
        "class: `StandardScaler <sklearn.preprocessing.StandardScaler>` applied,\n",
        "to unscaled data. The results are visualized and a clear difference noted.\n",
        "The 1st principal component in the unscaled set can be seen. It can be seen\n",
        "that feature #13 dominates the direction, being a whole two orders of\n",
        "magnitude above the other features. This is contrasted when observing\n",
        "the principal component for the scaled version of the data. In the scaled\n",
        "version, the orders of magnitude are roughly the same across all the features.\n",
        "\n",
        "The dataset used is the Wine Dataset available at UCI. This dataset\n",
        "has continuous features that are heterogeneous in scale due to differing\n",
        "properties that they measure (i.e. alcohol content and malic acid).\n",
        "\n",
        "The transformed data is then used to train a naive Bayes classifier, and a\n",
        "clear difference in prediction accuracies is observed wherein the dataset\n",
        "which is scaled before PCA vastly outperforms the unscaled version.\n"
      ]
    },
    {
      "cell_type": "code",
      "execution_count": 6,
      "metadata": {},
      "outputs": [],
      "source": [
        "import matplotlib.pyplot as plt\n",
        "import pandas as pd\n",
        "from sklearn.model_selection import train_test_split\n",
        "from sklearn.preprocessing import StandardScaler\n",
        "from sklearn.decomposition import PCA\n",
        "from sklearn.naive_bayes import GaussianNB\n",
        "from sklearn.metrics import accuracy_score\n",
        "from sklearn.datasets import load_wine\n",
        "from sklearn.pipeline import make_pipeline\n",
        "\n",
        "import warnings\n",
        "warnings.filterwarnings(\"ignore\")\n",
        "\n",
        "RANDOM_STATE = 42\n",
        "FIG_SIZE = (10, 7)"
      ]
    },
    {
      "cell_type": "code",
      "execution_count": 7,
      "metadata": {},
      "outputs": [
        {
          "data": {
            "text/html": [
              "<div>\n",
              "<style scoped>\n",
              "    .dataframe tbody tr th:only-of-type {\n",
              "        vertical-align: middle;\n",
              "    }\n",
              "\n",
              "    .dataframe tbody tr th {\n",
              "        vertical-align: top;\n",
              "    }\n",
              "\n",
              "    .dataframe thead th {\n",
              "        text-align: right;\n",
              "    }\n",
              "</style>\n",
              "<table border=\"1\" class=\"dataframe\">\n",
              "  <thead>\n",
              "    <tr style=\"text-align: right;\">\n",
              "      <th></th>\n",
              "      <th>0</th>\n",
              "      <th>1</th>\n",
              "      <th>2</th>\n",
              "      <th>3</th>\n",
              "      <th>4</th>\n",
              "      <th>5</th>\n",
              "      <th>6</th>\n",
              "      <th>7</th>\n",
              "      <th>8</th>\n",
              "      <th>9</th>\n",
              "      <th>10</th>\n",
              "      <th>11</th>\n",
              "      <th>12</th>\n",
              "    </tr>\n",
              "  </thead>\n",
              "  <tbody>\n",
              "    <tr>\n",
              "      <th>0</th>\n",
              "      <td>14.23</td>\n",
              "      <td>1.71</td>\n",
              "      <td>2.43</td>\n",
              "      <td>15.6</td>\n",
              "      <td>127.0</td>\n",
              "      <td>2.80</td>\n",
              "      <td>3.06</td>\n",
              "      <td>0.28</td>\n",
              "      <td>2.29</td>\n",
              "      <td>5.64</td>\n",
              "      <td>1.04</td>\n",
              "      <td>3.92</td>\n",
              "      <td>1065.0</td>\n",
              "    </tr>\n",
              "    <tr>\n",
              "      <th>0</th>\n",
              "      <td>13.20</td>\n",
              "      <td>1.78</td>\n",
              "      <td>2.14</td>\n",
              "      <td>11.2</td>\n",
              "      <td>100.0</td>\n",
              "      <td>2.65</td>\n",
              "      <td>2.76</td>\n",
              "      <td>0.26</td>\n",
              "      <td>1.28</td>\n",
              "      <td>4.38</td>\n",
              "      <td>1.05</td>\n",
              "      <td>3.40</td>\n",
              "      <td>1050.0</td>\n",
              "    </tr>\n",
              "    <tr>\n",
              "      <th>0</th>\n",
              "      <td>13.16</td>\n",
              "      <td>2.36</td>\n",
              "      <td>2.67</td>\n",
              "      <td>18.6</td>\n",
              "      <td>101.0</td>\n",
              "      <td>2.80</td>\n",
              "      <td>3.24</td>\n",
              "      <td>0.30</td>\n",
              "      <td>2.81</td>\n",
              "      <td>5.68</td>\n",
              "      <td>1.03</td>\n",
              "      <td>3.17</td>\n",
              "      <td>1185.0</td>\n",
              "    </tr>\n",
              "    <tr>\n",
              "      <th>0</th>\n",
              "      <td>14.37</td>\n",
              "      <td>1.95</td>\n",
              "      <td>2.50</td>\n",
              "      <td>16.8</td>\n",
              "      <td>113.0</td>\n",
              "      <td>3.85</td>\n",
              "      <td>3.49</td>\n",
              "      <td>0.24</td>\n",
              "      <td>2.18</td>\n",
              "      <td>7.80</td>\n",
              "      <td>0.86</td>\n",
              "      <td>3.45</td>\n",
              "      <td>1480.0</td>\n",
              "    </tr>\n",
              "    <tr>\n",
              "      <th>0</th>\n",
              "      <td>13.24</td>\n",
              "      <td>2.59</td>\n",
              "      <td>2.87</td>\n",
              "      <td>21.0</td>\n",
              "      <td>118.0</td>\n",
              "      <td>2.80</td>\n",
              "      <td>2.69</td>\n",
              "      <td>0.39</td>\n",
              "      <td>1.82</td>\n",
              "      <td>4.32</td>\n",
              "      <td>1.04</td>\n",
              "      <td>2.93</td>\n",
              "      <td>735.0</td>\n",
              "    </tr>\n",
              "  </tbody>\n",
              "</table>\n",
              "</div>"
            ],
            "text/plain": [
              "      0     1     2     3      4     5   ...    7     8     9     10    11      12\n",
              "0  14.23  1.71  2.43  15.6  127.0  2.80  ...  0.28  2.29  5.64  1.04  3.92  1065.0\n",
              "0  13.20  1.78  2.14  11.2  100.0  2.65  ...  0.26  1.28  4.38  1.05  3.40  1050.0\n",
              "0  13.16  2.36  2.67  18.6  101.0  2.80  ...  0.30  2.81  5.68  1.03  3.17  1185.0\n",
              "0  14.37  1.95  2.50  16.8  113.0  3.85  ...  0.24  2.18  7.80  0.86  3.45  1480.0\n",
              "0  13.24  2.59  2.87  21.0  118.0  2.80  ...  0.39  1.82  4.32  1.04  2.93   735.0\n",
              "\n",
              "[5 rows x 13 columns]"
            ]
          },
          "execution_count": 7,
          "metadata": {},
          "output_type": "execute_result"
        }
      ],
      "source": [
        "features, target = load_wine(return_X_y=True)\n",
        "winedata = pd.DataFrame(features, target)\n",
        "winedata.head()"
      ]
    },
    {
      "cell_type": "code",
      "execution_count": 9,
      "metadata": {},
      "outputs": [],
      "source": [
        "# Make a train/test split using 30% test size\n",
        "X_train, X_test, y_train, y_test = train_test_split(features, target, test_size=0.30, random_state=RANDOM_STATE)"
      ]
    },
    {
      "cell_type": "code",
      "execution_count": 15,
      "metadata": {},
      "outputs": [],
      "source": [
        "# Fit to data and predict using pipelined GNB and PCA\n",
        "unscaled_clf = make_pipeline(PCA(n_components=2), GaussianNB())\n",
        "unscaled_clf.fit(X_train, y_train)\n",
        "pred_train = unscaled_clf.predict(X_train)\n",
        "pred_test = unscaled_clf.predict(X_test)"
      ]
    },
    {
      "cell_type": "code",
      "execution_count": 19,
      "metadata": {},
      "outputs": [
        {
          "name": "stdout",
          "output_type": "stream",
          "text": [
            "Training accuracy for the normal test dataset with PCA\n",
            "74.19%\n",
            "Prediction/testing accuracy for the normal test dataset with PCA\n",
            "81.48%\n"
          ]
        }
      ],
      "source": [
        "# Show prediction accuracies in scaled and unscaled data.\n",
        "print(\"Training accuracy for the normal test dataset with PCA - \")\n",
        "print(f\"{accuracy_score(y_train, pred_train):.2%}\")\n",
        "print(\"Prediction/testing accuracy for the normal test dataset with PCA - \")\n",
        "print(f\"{accuracy_score(y_test, pred_test):.2%}\")"
      ]
    },
    {
      "cell_type": "code",
      "execution_count": 20,
      "metadata": {},
      "outputs": [],
      "source": [
        "# Fit to data and predict using pipelined scaling, GNB and PCA\n",
        "std_clf = make_pipeline(StandardScaler(), PCA(n_components=2), GaussianNB())\n",
        "std_clf.fit(X_train, y_train)\n",
        "pred_train_std = std_clf.predict(X_train)\n",
        "pred_test_std = std_clf.predict(X_test)"
      ]
    },
    {
      "cell_type": "code",
      "execution_count": 22,
      "metadata": {},
      "outputs": [
        {
          "name": "stdout",
          "output_type": "stream",
          "text": [
            "Training accuracy for the normal test dataset with PCA - \n",
            "95.97%\n",
            "Prediction accuracy for the standardized test dataset with PCA\n",
            "98.15%\n"
          ]
        }
      ],
      "source": [
        "print(\"Training accuracy for the normal test dataset with PCA - \")\n",
        "print(f\"{accuracy_score(y_train, pred_train_std):.2%}\")\n",
        "print(\"Prediction accuracy for the standardized test dataset with PCA\")\n",
        "print(f\"{accuracy_score(y_test, pred_test_std):.2%}\")"
      ]
    },
    {
      "cell_type": "markdown",
      "metadata": {},
      "source": [
        "#### Note - The accuracy increased after Standardizing the dataset"
      ]
    },
    {
      "cell_type": "code",
      "execution_count": 32,
      "metadata": {},
      "outputs": [],
      "source": [
        "# Extract PCA from pipeline\n",
        "pca = unscaled_clf.named_steps[\"pca\"]\n",
        "pca_std = std_clf.named_steps[\"pca\"]"
      ]
    },
    {
      "cell_type": "code",
      "execution_count": 45,
      "metadata": {},
      "outputs": [
        {
          "data": {
            "text/html": [
              "<div>\n",
              "<style scoped>\n",
              "    .dataframe tbody tr th:only-of-type {\n",
              "        vertical-align: middle;\n",
              "    }\n",
              "\n",
              "    .dataframe tbody tr th {\n",
              "        vertical-align: top;\n",
              "    }\n",
              "\n",
              "    .dataframe thead th {\n",
              "        text-align: right;\n",
              "    }\n",
              "</style>\n",
              "<table border=\"1\" class=\"dataframe\">\n",
              "  <thead>\n",
              "    <tr style=\"text-align: right;\">\n",
              "      <th></th>\n",
              "      <th>0</th>\n",
              "      <th>1</th>\n",
              "      <th>2</th>\n",
              "      <th>3</th>\n",
              "      <th>4</th>\n",
              "      <th>5</th>\n",
              "      <th>6</th>\n",
              "      <th>7</th>\n",
              "      <th>8</th>\n",
              "      <th>9</th>\n",
              "      <th>10</th>\n",
              "      <th>11</th>\n",
              "      <th>12</th>\n",
              "    </tr>\n",
              "  </thead>\n",
              "  <tbody>\n",
              "    <tr>\n",
              "      <th>0</th>\n",
              "      <td>0.001763</td>\n",
              "      <td>-0.000836</td>\n",
              "      <td>0.000155</td>\n",
              "      <td>-0.005311</td>\n",
              "      <td>0.020166</td>\n",
              "      <td>0.001024</td>\n",
              "      <td>0.001532</td>\n",
              "      <td>-0.000112</td>\n",
              "      <td>0.000631</td>\n",
              "      <td>0.002326</td>\n",
              "      <td>0.000154</td>\n",
              "      <td>0.000743</td>\n",
              "      <td>0.999776</td>\n",
              "    </tr>\n",
              "  </tbody>\n",
              "</table>\n",
              "</div>"
            ],
            "text/plain": [
              "         0         1         2   ...        10        11        12\n",
              "0  0.001763 -0.000836  0.000155  ...  0.000154  0.000743  0.999776\n",
              "\n",
              "[1 rows x 13 columns]"
            ]
          },
          "execution_count": 45,
          "metadata": {},
          "output_type": "execute_result"
        }
      ],
      "source": [
        "pca_data = pd.DataFrame(pca.components_)\n",
        "pca_data.iloc[:1]"
      ]
    },
    {
      "cell_type": "code",
      "execution_count": 24,
      "metadata": {},
      "outputs": [
        {
          "name": "stdout",
          "output_type": "stream",
          "text": [
            "\n",
            "PC 1 without scaling:\n",
            "[ 1.76342917e-03 -8.35544737e-04  1.54623496e-04 -5.31136096e-03\n",
            "  2.01663336e-02  1.02440667e-03  1.53155502e-03 -1.11663562e-04\n",
            "  6.31071580e-04  2.32645551e-03  1.53606718e-04  7.43176482e-04\n",
            "  9.99775716e-01]\n",
            "\n",
            "PC 1 with scaling:\n",
            "[ 0.13443023 -0.25680248 -0.0113463  -0.23405337  0.15840049  0.39194918\n",
            "  0.41607649 -0.27871336  0.33129255 -0.11383282  0.29726413  0.38054255\n",
            "  0.27507157]\n"
          ]
        }
      ],
      "source": [
        "# Show first principal components\n",
        "print(f\"\\nPC 1 without scaling:\\n{pca.components_[0]}\")\n",
        "print(f\"\\nPC 1 with scaling:\\n{pca_std.components_[0]}\")"
      ]
    },
    {
      "cell_type": "code",
      "execution_count": 52,
      "metadata": {},
      "outputs": [],
      "source": [
        "# Use PCA without and with scale on X_train data for visualization.\n",
        "X_train_transformed = pca.transform(X_train)\n",
        "\n",
        "scaler = std_clf.named_steps[\"standardscaler\"]\n",
        "scaled_X_train = scaler.transform(X_train)\n",
        "X_train_std_transformed = pca_std.transform(scaled_X_train)"
      ]
    },
    {
      "cell_type": "code",
      "execution_count": 31,
      "metadata": {
        "collapsed": false
      },
      "outputs": [
        {
          "data": {
            "image/png": "[encoded data removed]",
            "text/plain": [
              "<Figure size 1000x700 with 2 Axes>"
            ]
          },
          "metadata": {},
          "output_type": "display_data"
        }
      ],
      "source": [
        "# visualize standardized vs. untouched dataset with PCA performed\n",
        "fig, (ax1, ax2) = plt.subplots(ncols=2, figsize=FIG_SIZE)\n",
        "\n",
        "target_classes = range(0, 3)\n",
        "colors = (\"blue\", \"red\", \"green\")\n",
        "markers = (\"^\", \"s\", \"o\")\n",
        "\n",
        "for target_class, color, marker in zip(target_classes, colors, markers): # in zip dimension of all the attributes should be same\n",
        "    ax1.scatter(\n",
        "        x=X_train_transformed[y_train == target_class, 0],\n",
        "        y=X_train_transformed[y_train == target_class, 1],\n",
        "        color=color,\n",
        "        label=f\"class {target_class}\",\n",
        "        alpha=0.5,\n",
        "        marker=marker,\n",
        "    )\n",
        "\n",
        "    ax2.scatter(\n",
        "        x=X_train_std_transformed[y_train == target_class, 0],\n",
        "        y=X_train_std_transformed[y_train == target_class, 1],\n",
        "        color=color,\n",
        "        label=f\"class {target_class}\",\n",
        "        alpha=0.5,\n",
        "        marker=marker,\n",
        "    )\n",
        "\n",
        "ax1.set_title(\"Training dataset after PCA\")\n",
        "ax2.set_title(\"Standardized training dataset after PCA\")\n",
        "\n",
        "for ax in (ax1, ax2):\n",
        "    ax.set_xlabel(\"1st principal component\")\n",
        "    ax.set_ylabel(\"2nd principal component\")\n",
        "    ax.legend(loc=\"upper right\")\n",
        "    ax.grid()\n",
        "\n",
        "plt.tight_layout()\n",
        "\n",
        "plt.show()"
      ]
    },
    {
      "cell_type": "code",
      "execution_count": null,
      "metadata": {},
      "outputs": [],
      "source": []
    }
  ],
  "metadata": {
    "kernelspec": {
      "display_name": "Python 3.10.4 ('base')",
      "language": "python",
      "name": "python3"
    },
    "language_info": {
      "codemirror_mode": {
        "name": "ipython",
        "version": 3
      },
      "file_extension": ".py",
      "mimetype": "text/x-python",
      "name": "python",
      "nbconvert_exporter": "python",
      "pygments_lexer": "ipython3",
      "version": "3.10.4"
    },
    "vscode": {
      "interpreter": {
        "hash": "7c502e12f5fe822f5adec0fbbf0adb265abfc64a47338c1c93e2daf7c2ae52c2"
      }
    }
  },
  "nbformat": 4,
  "nbformat_minor": 0
}
