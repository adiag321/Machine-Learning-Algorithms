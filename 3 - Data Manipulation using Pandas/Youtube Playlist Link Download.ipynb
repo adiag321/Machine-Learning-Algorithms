{
 "cells": [
  {
   "cell_type": "code",
   "execution_count": 7,
   "id": "bf151e88",
   "metadata": {},
   "outputs": [
    {
     "name": "stdout",
     "output_type": "stream",
     "text": [
      "1 - What is pandas? (Introduction to the Q&A series) : https://youtube.com/watch?v=yzIMircGU5I\n",
      "2 - How do I read a tabular data file into pandas? : https://youtube.com/watch?v=5_QXMwezPJE\n",
      "3 - How do I select a pandas Series from a DataFrame? : https://youtube.com/watch?v=zxqjeyKP2Tk\n",
      "4 - Why do some pandas commands end with parentheses (and others don't)? : https://youtube.com/watch?v=hSrDViyKWVk\n",
      "5 - How do I rename columns in a pandas DataFrame? : https://youtube.com/watch?v=0uBirYFhizE\n",
      "6 - How do I remove columns from a pandas DataFrame? : https://youtube.com/watch?v=gnUKkS964WQ\n",
      "7 - How do I sort a pandas DataFrame or a Series? : https://youtube.com/watch?v=zY4doF6xSxY\n",
      "8 - How do I filter rows of a pandas DataFrame by column value? : https://youtube.com/watch?v=2AFGPdNn4FM\n",
      "9 - How do I apply multiple filter criteria to a pandas DataFrame? : https://youtube.com/watch?v=YPItfQ87qjM\n",
      "10 - Your pandas questions answered! : https://youtube.com/watch?v=B-r9VuK80dk\n",
      "11 - How do I use the \"axis\" parameter in pandas? : https://youtube.com/watch?v=PtO3t6ynH-8\n",
      "12 - How do I use string methods in pandas? : https://youtube.com/watch?v=bofaC0IckHo\n",
      "13 - How do I change the data type of a pandas Series? : https://youtube.com/watch?v=V0AWyzVMf54\n",
      "14 - When should I use a \"groupby\" in pandas? : https://youtube.com/watch?v=qy0fDqoMJx8\n",
      "15 - How do I explore a pandas Series? : https://youtube.com/watch?v=QTVTq8SPzxM\n",
      "16 - How do I handle missing values in pandas? : https://youtube.com/watch?v=fCMrO_VzeL8\n",
      "17 - What do I need to know about the pandas index? (Part 1) : https://youtube.com/watch?v=OYZNk7Z9s6I\n",
      "18 - What do I need to know about the pandas index? (Part 2) : https://youtube.com/watch?v=15q-is8P_H4\n",
      "19 - How do I select multiple rows and columns from a pandas DataFrame? : https://youtube.com/watch?v=xvpNA7bC8cs\n",
      "20 - When should I use the \"inplace\" parameter in pandas? : https://youtube.com/watch?v=XaCSdr7pPmY\n",
      "21 - How do I make my pandas DataFrame smaller and faster? : https://youtube.com/watch?v=wDYDYGyN_cw\n",
      "22 - How do I use pandas with scikit-learn to create Kaggle submissions? : https://youtube.com/watch?v=ylRlGCtAtiE\n",
      "23 - More of your pandas questions answered! : https://youtube.com/watch?v=oH3wYKvwpJ8\n",
      "24 - How do I create dummy variables in pandas? : https://youtube.com/watch?v=0s_1IsROgDc\n",
      "25 - How do I work with dates and times in pandas? : https://youtube.com/watch?v=yCgJGsg0Xa4\n",
      "26 - How do I find and remove duplicate rows in pandas? : https://youtube.com/watch?v=ht5buXUMqkQ\n",
      "27 - How do I avoid a SettingWithCopyWarning in pandas? : https://youtube.com/watch?v=4R4WsDJ-KVc\n",
      "28 - How do I change display options in pandas? : https://youtube.com/watch?v=yiO43TQ4xvc\n",
      "29 - How do I create a pandas DataFrame from another object? : https://youtube.com/watch?v=-Ov1N1_FbP8\n",
      "30 - How do I apply a function to a pandas Series or DataFrame? : https://youtube.com/watch?v=P_q0tkYqvSk\n",
      "31 - How do I use the MultiIndex in pandas? : https://youtube.com/watch?v=tcRGa2soc-c\n",
      "32 - How do I merge DataFrames in pandas? : https://youtube.com/watch?v=iYWKfUOtGaw\n",
      "33 - 4 new time-saving tricks in pandas : https://youtube.com/watch?v=-NbY7E9hKxk\n",
      "34 - 5 new changes in pandas you need to know about : https://youtube.com/watch?v=te5JrSCW-LY\n",
      "35 - My top 25 pandas tricks : https://youtube.com/watch?v=RlIiVeig3hc\n",
      "36 - 21 more pandas tricks : https://youtube.com/watch?v=tWFQqaRtSQA\n",
      "37 - Data Science Best Practices with pandas (PyCon 2019) : https://youtube.com/watch?v=dPwLlJkSHLo\n",
      "38 - Your pandas questions answered! (webcast) : https://youtube.com/watch?v=CWRKgBtZN18\n"
     ]
    }
   ],
   "source": [
    "from pytube import Playlist\n",
    "\n",
    "# Replace the URL with the playlist URL\n",
    "playlist_url = \"https://www.youtube.com/playlist?list=PL5-da3qGB5ICCsgW1MxlZ0Hq8LL5U3u9y\"\n",
    "\n",
    "playlist = Playlist(playlist_url)\n",
    "\n",
    "# Fetch and print all video titles and URLs\n",
    "counter = 1\n",
    "for video in playlist.videos:\n",
    "    print(counter,'-',video.title,':',video.watch_url)\n",
    "    counter = counter +1\n"
   ]
  },
  {
   "cell_type": "code",
   "execution_count": null,
   "id": "2ae1dd78",
   "metadata": {},
   "outputs": [],
   "source": []
  }
 ],
 "metadata": {
  "kernelspec": {
   "display_name": "Python 3 (ipykernel)",
   "language": "python",
   "name": "python3"
  },
  "language_info": {
   "codemirror_mode": {
    "name": "ipython",
    "version": 3
   },
   "file_extension": ".py",
   "mimetype": "text/x-python",
   "name": "python",
   "nbconvert_exporter": "python",
   "pygments_lexer": "ipython3",
   "version": "3.11.5"
  }
 },
 "nbformat": 4,
 "nbformat_minor": 5
}
