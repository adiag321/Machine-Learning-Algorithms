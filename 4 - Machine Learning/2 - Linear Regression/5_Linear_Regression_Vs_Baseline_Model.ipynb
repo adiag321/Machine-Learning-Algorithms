{
 "cells": [
  {
   "cell_type": "code",
   "execution_count": 1,
   "metadata": {},
   "outputs": [],
   "source": [
    "import pandas as pd\n",
    "import numpy as np\n",
    "from sklearn.model_selection import train_test_split\n",
    "from sklearn.linear_model import LinearRegression\n",
    "from sklearn.metrics import mean_squared_error, mean_absolute_error"
   ]
  },
  {
   "cell_type": "code",
   "execution_count": 2,
   "metadata": {},
   "outputs": [
    {
     "data": {
      "text/html": [
       "<div>\n",
       "<style scoped>\n",
       "    .dataframe tbody tr th:only-of-type {\n",
       "        vertical-align: middle;\n",
       "    }\n",
       "\n",
       "    .dataframe tbody tr th {\n",
       "        vertical-align: top;\n",
       "    }\n",
       "\n",
       "    .dataframe thead th {\n",
       "        text-align: right;\n",
       "    }\n",
       "</style>\n",
       "<table border=\"1\" class=\"dataframe\">\n",
       "  <thead>\n",
       "    <tr style=\"text-align: right;\">\n",
       "      <th></th>\n",
       "      <th>feature1</th>\n",
       "      <th>feature2</th>\n",
       "      <th>price</th>\n",
       "    </tr>\n",
       "  </thead>\n",
       "  <tbody>\n",
       "    <tr>\n",
       "      <th>0</th>\n",
       "      <td>0.614125</td>\n",
       "      <td>0.102929</td>\n",
       "      <td>17972.217561</td>\n",
       "    </tr>\n",
       "    <tr>\n",
       "      <th>1</th>\n",
       "      <td>0.789224</td>\n",
       "      <td>0.105684</td>\n",
       "      <td>56467.745198</td>\n",
       "    </tr>\n",
       "    <tr>\n",
       "      <th>2</th>\n",
       "      <td>0.769421</td>\n",
       "      <td>0.624308</td>\n",
       "      <td>25360.445406</td>\n",
       "    </tr>\n",
       "    <tr>\n",
       "      <th>3</th>\n",
       "      <td>0.264100</td>\n",
       "      <td>0.691542</td>\n",
       "      <td>88732.193684</td>\n",
       "    </tr>\n",
       "    <tr>\n",
       "      <th>4</th>\n",
       "      <td>0.048123</td>\n",
       "      <td>0.841424</td>\n",
       "      <td>94393.679347</td>\n",
       "    </tr>\n",
       "  </tbody>\n",
       "</table>\n",
       "</div>"
      ],
      "text/plain": [
       "   feature1  feature2         price\n",
       "0  0.614125  0.102929  17972.217561\n",
       "1  0.789224  0.105684  56467.745198\n",
       "2  0.769421  0.624308  25360.445406\n",
       "3  0.264100  0.691542  88732.193684\n",
       "4  0.048123  0.841424  94393.679347"
      ]
     },
     "execution_count": 2,
     "metadata": {},
     "output_type": "execute_result"
    }
   ],
   "source": [
    "# Sample DataFrame\n",
    "data = {\n",
    "    'feature1': np.random.rand(100),\n",
    "    'feature2': np.random.rand(100),\n",
    "    'price': np.random.rand(100) * 100000  # Random house prices\n",
    "}\n",
    "df = pd.DataFrame(data)\n",
    "df.head()"
   ]
  },
  {
   "cell_type": "code",
   "execution_count": 4,
   "metadata": {},
   "outputs": [],
   "source": [
    "# Step 1: Prepare the data\n",
    "X = df[['feature1', 'feature2']]\n",
    "y = df['price']\n",
    "\n",
    "X_train, X_test, y_train, y_test = train_test_split(X, y, test_size=0.2, random_state=42)\n"
   ]
  },
  {
   "cell_type": "code",
   "execution_count": 5,
   "metadata": {},
   "outputs": [
    {
     "name": "stdout",
     "output_type": "stream",
     "text": [
      "51540.07671881725\n",
      "53607.36929983534\n"
     ]
    }
   ],
   "source": [
    "# Step 2: Calculate Baseline Predictions\n",
    "mean_price = y_train.mean()\n",
    "median_price = y_train.median()\n",
    "print(mean_price)\n",
    "print(median_price)"
   ]
  },
  {
   "cell_type": "code",
   "execution_count": 8,
   "metadata": {},
   "outputs": [
    {
     "name": "stdout",
     "output_type": "stream",
     "text": [
      "[51540.07671882 51540.07671882 51540.07671882 51540.07671882\n",
      " 51540.07671882 51540.07671882 51540.07671882 51540.07671882\n",
      " 51540.07671882 51540.07671882 51540.07671882 51540.07671882\n",
      " 51540.07671882 51540.07671882 51540.07671882 51540.07671882\n",
      " 51540.07671882 51540.07671882 51540.07671882 51540.07671882\n",
      " 51540.07671882 51540.07671882 51540.07671882 51540.07671882\n",
      " 51540.07671882 51540.07671882 51540.07671882 51540.07671882\n",
      " 51540.07671882 51540.07671882 51540.07671882 51540.07671882\n",
      " 51540.07671882 51540.07671882 51540.07671882 51540.07671882\n",
      " 51540.07671882 51540.07671882 51540.07671882 51540.07671882\n",
      " 51540.07671882 51540.07671882 51540.07671882 51540.07671882\n",
      " 51540.07671882 51540.07671882 51540.07671882 51540.07671882\n",
      " 51540.07671882 51540.07671882 51540.07671882 51540.07671882\n",
      " 51540.07671882 51540.07671882 51540.07671882 51540.07671882\n",
      " 51540.07671882 51540.07671882 51540.07671882 51540.07671882\n",
      " 51540.07671882 51540.07671882 51540.07671882 51540.07671882\n",
      " 51540.07671882 51540.07671882 51540.07671882 51540.07671882\n",
      " 51540.07671882 51540.07671882 51540.07671882 51540.07671882\n",
      " 51540.07671882 51540.07671882 51540.07671882 51540.07671882\n",
      " 51540.07671882 51540.07671882 51540.07671882 51540.07671882]\n"
     ]
    }
   ],
   "source": [
    "mean_baseline_train = np.full_like(y_train, mean_price)\n",
    "mean_baseline_test = np.full_like(y_test, mean_price)\n",
    "\n",
    "median_baseline_train = np.full_like(y_train, median_price)\n",
    "median_baseline_test = np.full_like(y_test, median_price)\n",
    "\n",
    "print(mean_baseline_train)\n",
    "#print(mean_baseline_test)\n",
    "#print(median_baseline_test)\n",
    "#print(mean_baseline_train) "
   ]
  },
  {
   "cell_type": "code",
   "execution_count": 9,
   "metadata": {},
   "outputs": [],
   "source": [
    "# Step 3: Train a Linear Regression Model\n",
    "model = LinearRegression()\n",
    "model.fit(X_train, y_train)\n",
    "\n",
    "lr_predictions_train = model.predict(X_train)\n",
    "lr_predictions_test = model.predict(X_test)"
   ]
  },
  {
   "cell_type": "code",
   "execution_count": 11,
   "metadata": {},
   "outputs": [
    {
     "name": "stdout",
     "output_type": "stream",
     "text": [
      "814942355.63489\n",
      "24679.122171969077\n"
     ]
    }
   ],
   "source": [
    "# Mean Baseline\n",
    "mse_mean_baseline = mean_squared_error(y_test, mean_baseline_test)\n",
    "mae_mean_baseline = mean_absolute_error(y_test, mean_baseline_test)\n",
    "\n",
    "print(mse_mean_baseline)\n",
    "print(mae_mean_baseline)"
   ]
  },
  {
   "cell_type": "code",
   "execution_count": 12,
   "metadata": {},
   "outputs": [
    {
     "name": "stdout",
     "output_type": "stream",
     "text": [
      "Mean Baseline Model - MSE: 814942355.63489, MAE: 24679.122171969077\n",
      "Linear Regression Model - MSE: 842450414.2867721, MAE: 25798.706563160034\n"
     ]
    }
   ],
   "source": [
    "# Linear Regression\n",
    "mse_lr = mean_squared_error(y_test, lr_predictions_test)\n",
    "mae_lr = mean_absolute_error(y_test, lr_predictions_test)\n",
    "\n",
    "print(f\"Mean Baseline Model - MSE: {mse_mean_baseline}, MAE: {mae_mean_baseline}\")\n",
    "print(f\"Linear Regression Model - MSE: {mse_lr}, MAE: {mae_lr}\")"
   ]
  },
  {
   "cell_type": "code",
   "execution_count": null,
   "metadata": {},
   "outputs": [],
   "source": []
  }
 ],
 "metadata": {
  "kernelspec": {
   "display_name": "Python 3",
   "language": "python",
   "name": "python3"
  },
  "language_info": {
   "codemirror_mode": {
    "name": "ipython",
    "version": 3
   },
   "file_extension": ".py",
   "mimetype": "text/x-python",
   "name": "python",
   "nbconvert_exporter": "python",
   "pygments_lexer": "ipython3",
   "version": "3.9.0"
  }
 },
 "nbformat": 4,
 "nbformat_minor": 2
}
