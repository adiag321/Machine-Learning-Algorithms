{
 "cells": [
  {
   "cell_type": "code",
   "execution_count": 5,
   "id": "73842cb1",
   "metadata": {},
   "outputs": [],
   "source": [
    "import pandas as pd\n",
    "import numpy as np\n",
    "import os\n",
    "from sklearn.model_selection import train_test_split\n",
    "from sklearn.linear_model import LinearRegression, Ridge, Lasso\n",
    "from sklearn.metrics import mean_squared_error, mean_absolute_error"
   ]
  },
  {
   "cell_type": "code",
   "execution_count": 6,
   "id": "484e55b0",
   "metadata": {},
   "outputs": [
    {
     "data": {
      "text/html": [
       "<div>\n",
       "<style scoped>\n",
       "    .dataframe tbody tr th:only-of-type {\n",
       "        vertical-align: middle;\n",
       "    }\n",
       "\n",
       "    .dataframe tbody tr th {\n",
       "        vertical-align: top;\n",
       "    }\n",
       "\n",
       "    .dataframe thead th {\n",
       "        text-align: right;\n",
       "    }\n",
       "</style>\n",
       "<table border=\"1\" class=\"dataframe\">\n",
       "  <thead>\n",
       "    <tr style=\"text-align: right;\">\n",
       "      <th></th>\n",
       "      <th>feature1</th>\n",
       "      <th>feature2</th>\n",
       "      <th>price</th>\n",
       "    </tr>\n",
       "  </thead>\n",
       "  <tbody>\n",
       "    <tr>\n",
       "      <th>0</th>\n",
       "      <td>0.727465</td>\n",
       "      <td>0.591918</td>\n",
       "      <td>914.086135</td>\n",
       "    </tr>\n",
       "    <tr>\n",
       "      <th>1</th>\n",
       "      <td>0.742418</td>\n",
       "      <td>0.374677</td>\n",
       "      <td>511.250785</td>\n",
       "    </tr>\n",
       "    <tr>\n",
       "      <th>2</th>\n",
       "      <td>0.998761</td>\n",
       "      <td>0.578728</td>\n",
       "      <td>878.187978</td>\n",
       "    </tr>\n",
       "    <tr>\n",
       "      <th>3</th>\n",
       "      <td>0.831065</td>\n",
       "      <td>0.774435</td>\n",
       "      <td>29.578220</td>\n",
       "    </tr>\n",
       "    <tr>\n",
       "      <th>4</th>\n",
       "      <td>0.553689</td>\n",
       "      <td>0.370773</td>\n",
       "      <td>624.805409</td>\n",
       "    </tr>\n",
       "  </tbody>\n",
       "</table>\n",
       "</div>"
      ],
      "text/plain": [
       "   feature1  feature2       price\n",
       "0  0.727465  0.591918  914.086135\n",
       "1  0.742418  0.374677  511.250785\n",
       "2  0.998761  0.578728  878.187978\n",
       "3  0.831065  0.774435   29.578220\n",
       "4  0.553689  0.370773  624.805409"
      ]
     },
     "execution_count": 6,
     "metadata": {},
     "output_type": "execute_result"
    }
   ],
   "source": [
    "path = 'D:\\OneDrive - Northeastern University\\Jupyter Notebook\\Machine Learning Algorithms\\Datasets\\Sample_LR_dataset.csv'\n",
    "df= pd.read_csv(path)\n",
    "df.head()"
   ]
  },
  {
   "cell_type": "code",
   "execution_count": 8,
   "id": "4817bd28",
   "metadata": {},
   "outputs": [],
   "source": [
    "# Step 1: Prepare the data\n",
    "X = df[['feature1', 'feature2']]\n",
    "y = df['price']\n",
    "\n",
    "X_train, X_test, y_train, y_test = train_test_split(X, y, test_size=0.2, random_state=42)"
   ]
  },
  {
   "cell_type": "code",
   "execution_count": 10,
   "id": "e3340a47",
   "metadata": {},
   "outputs": [
    {
     "name": "stdout",
     "output_type": "stream",
     "text": [
      "Ridge Regression MSE: 70185.06\n",
      "Lasso Regression MSE: 70177.74\n",
      "Ridge Regression MAE: 221.29\n",
      "Lasso Regression MAE: 221.33\n"
     ]
    }
   ],
   "source": [
    "ridge_model = Ridge(alpha=0.1)  # adjust alpha value as needed\n",
    "lasso_model = Lasso(alpha=0.1)  # adjust alpha value as needed\n",
    "\n",
    "ridge_model.fit(X_train, y_train)\n",
    "lasso_model.fit(X_train, y_train)\n",
    "\n",
    "ridge_mse = mean_squared_error(y_test, ridge_model.predict(X_test))\n",
    "lasso_mse = mean_squared_error(y_test, lasso_model.predict(X_test))\n",
    "mae_ridge = mean_absolute_error(y_test, ridge_model.predict(X_test))\n",
    "mae_lasso = mean_absolute_error(y_test, lasso_model.predict(X_test))\n",
    "\n",
    "print(f\"Ridge Regression MSE: {ridge_mse:.2f}\")\n",
    "print(f\"Lasso Regression MSE: {lasso_mse:.2f}\")\n",
    "print(f\"Ridge Regression MAE: {mae_ridge:.2f}\")\n",
    "print(f\"Lasso Regression MAE: {mae_lasso:.2f}\")"
   ]
  },
  {
   "cell_type": "code",
   "execution_count": null,
   "id": "8cae3d17",
   "metadata": {},
   "outputs": [],
   "source": []
  }
 ],
 "metadata": {
  "kernelspec": {
   "display_name": "Python 3 (ipykernel)",
   "language": "python",
   "name": "python3"
  },
  "language_info": {
   "codemirror_mode": {
    "name": "ipython",
    "version": 3
   },
   "file_extension": ".py",
   "mimetype": "text/x-python",
   "name": "python",
   "nbconvert_exporter": "python",
   "pygments_lexer": "ipython3",
   "version": "3.11.5"
  }
 },
 "nbformat": 4,
 "nbformat_minor": 5
}
