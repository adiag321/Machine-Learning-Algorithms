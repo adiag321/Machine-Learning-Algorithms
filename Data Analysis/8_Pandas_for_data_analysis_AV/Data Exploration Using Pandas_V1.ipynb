{
 "cells": [
  {
   "cell_type": "markdown",
   "id": "10269f58",
   "metadata": {},
   "source": [
    "## Data Exploration Using Pandas Part 1"
   ]
  },
  {
   "cell_type": "code",
   "execution_count": 2,
   "id": "69aa762d",
   "metadata": {},
   "outputs": [],
   "source": [
    "import pandas as pd\n",
    "import warnings\n",
    "import seaborn\n",
    "import matplotlib\n",
    "warnings.filterwarnings('ignore')"
   ]
  },
  {
   "cell_type": "code",
   "execution_count": 3,
   "id": "8bb3336b",
   "metadata": {},
   "outputs": [],
   "source": [
    "data = {'name': ['Kunal', 'Ankit', 'Purva', 'Pranav', 'Sunil'], \n",
    "        'age': [42, 52, 36, 24, 73], \n",
    "        'TestScore_1': [4, 24, 31, 2, 3],\n",
    "        'TestScore_2': [25, 94, 57, 62, 70]}"
   ]
  },
  {
   "cell_type": "code",
   "execution_count": 4,
   "id": "c3b8659f",
   "metadata": {},
   "outputs": [
    {
     "data": {
      "text/html": [
       "<div>\n",
       "<style scoped>\n",
       "    .dataframe tbody tr th:only-of-type {\n",
       "        vertical-align: middle;\n",
       "    }\n",
       "\n",
       "    .dataframe tbody tr th {\n",
       "        vertical-align: top;\n",
       "    }\n",
       "\n",
       "    .dataframe thead th {\n",
       "        text-align: right;\n",
       "    }\n",
       "</style>\n",
       "<table border=\"1\" class=\"dataframe\">\n",
       "  <thead>\n",
       "    <tr style=\"text-align: right;\">\n",
       "      <th></th>\n",
       "      <th>name</th>\n",
       "      <th>age</th>\n",
       "      <th>TestScore_1</th>\n",
       "      <th>TestScore_2</th>\n",
       "    </tr>\n",
       "  </thead>\n",
       "  <tbody>\n",
       "    <tr>\n",
       "      <th>0</th>\n",
       "      <td>Kunal</td>\n",
       "      <td>42</td>\n",
       "      <td>4</td>\n",
       "      <td>25</td>\n",
       "    </tr>\n",
       "    <tr>\n",
       "      <th>1</th>\n",
       "      <td>Ankit</td>\n",
       "      <td>52</td>\n",
       "      <td>24</td>\n",
       "      <td>94</td>\n",
       "    </tr>\n",
       "    <tr>\n",
       "      <th>2</th>\n",
       "      <td>Purva</td>\n",
       "      <td>36</td>\n",
       "      <td>31</td>\n",
       "      <td>57</td>\n",
       "    </tr>\n",
       "    <tr>\n",
       "      <th>3</th>\n",
       "      <td>Pranav</td>\n",
       "      <td>24</td>\n",
       "      <td>2</td>\n",
       "      <td>62</td>\n",
       "    </tr>\n",
       "    <tr>\n",
       "      <th>4</th>\n",
       "      <td>Sunil</td>\n",
       "      <td>73</td>\n",
       "      <td>3</td>\n",
       "      <td>70</td>\n",
       "    </tr>\n",
       "  </tbody>\n",
       "</table>\n",
       "</div>"
      ],
      "text/plain": [
       "     name  age  TestScore_1  TestScore_2\n",
       "0   Kunal   42            4           25\n",
       "1   Ankit   52           24           94\n",
       "2   Purva   36           31           57\n",
       "3  Pranav   24            2           62\n",
       "4   Sunil   73            3           70"
      ]
     },
     "execution_count": 4,
     "metadata": {},
     "output_type": "execute_result"
    }
   ],
   "source": [
    "df = pd.DataFrame(data, columns = ['name', 'age', 'TestScore_1', 'TestScore_2'])\n",
    "df"
   ]
  },
  {
   "cell_type": "markdown",
   "id": "62df1cd7",
   "metadata": {},
   "source": [
    "### The sum of all the ages"
   ]
  },
  {
   "cell_type": "code",
   "execution_count": 8,
   "id": "00fc2753",
   "metadata": {},
   "outputs": [
    {
     "data": {
      "text/plain": [
       "227"
      ]
     },
     "execution_count": 8,
     "metadata": {},
     "output_type": "execute_result"
    }
   ],
   "source": [
    "df['age'].sum()"
   ]
  },
  {
   "cell_type": "markdown",
   "id": "b7f50f42",
   "metadata": {},
   "source": [
    "### Mean TestScore_1"
   ]
  },
  {
   "cell_type": "code",
   "execution_count": 9,
   "id": "7349b225",
   "metadata": {},
   "outputs": [
    {
     "data": {
      "text/plain": [
       "12.8"
      ]
     },
     "execution_count": 9,
     "metadata": {},
     "output_type": "execute_result"
    }
   ],
   "source": [
    "df['TestScore_1'].mean()"
   ]
  },
  {
   "cell_type": "markdown",
   "id": "7b51b505",
   "metadata": {},
   "source": [
    "### Cumulative sum of TestScore_1s, moving from the rows from the top"
   ]
  },
  {
   "cell_type": "code",
   "execution_count": 10,
   "id": "0754aad1",
   "metadata": {},
   "outputs": [
    {
     "data": {
      "text/plain": [
       "0     4\n",
       "1    28\n",
       "2    59\n",
       "3    61\n",
       "4    64\n",
       "Name: TestScore_1, dtype: int64"
      ]
     },
     "execution_count": 10,
     "metadata": {},
     "output_type": "execute_result"
    }
   ],
   "source": [
    "df['TestScore_1'].cumsum()"
   ]
  },
  {
   "cell_type": "markdown",
   "id": "9ade3842",
   "metadata": {},
   "source": [
    "### Summary statistics on TestScore_1"
   ]
  },
  {
   "cell_type": "code",
   "execution_count": 6,
   "id": "760720e5",
   "metadata": {},
   "outputs": [
    {
     "data": {
      "text/plain": [
       "count     5.000000\n",
       "mean     12.800000\n",
       "std      13.663821\n",
       "min       2.000000\n",
       "25%       3.000000\n",
       "50%       4.000000\n",
       "75%      24.000000\n",
       "max      31.000000\n",
       "Name: TestScore_1, dtype: float64"
      ]
     },
     "execution_count": 6,
     "metadata": {},
     "output_type": "execute_result"
    }
   ],
   "source": [
    "df['TestScore_1'].describe()"
   ]
  },
  {
   "cell_type": "markdown",
   "id": "d8f65f9f",
   "metadata": {},
   "source": [
    "### Count the number of non-NA values"
   ]
  },
  {
   "cell_type": "code",
   "execution_count": 13,
   "id": "a9ee3680",
   "metadata": {},
   "outputs": [
    {
     "data": {
      "text/plain": [
       "5"
      ]
     },
     "execution_count": 13,
     "metadata": {},
     "output_type": "execute_result"
    }
   ],
   "source": [
    "df['TestScore_1'].count()"
   ]
  },
  {
   "cell_type": "markdown",
   "id": "774f6dd0",
   "metadata": {},
   "source": [
    "### Minimum value of TestScore_1"
   ]
  },
  {
   "cell_type": "code",
   "execution_count": 14,
   "id": "ef2eb30a",
   "metadata": {},
   "outputs": [
    {
     "data": {
      "text/plain": [
       "2"
      ]
     },
     "execution_count": 14,
     "metadata": {},
     "output_type": "execute_result"
    }
   ],
   "source": [
    "df['TestScore_1'].min()"
   ]
  },
  {
   "cell_type": "markdown",
   "id": "0f9cbef7",
   "metadata": {},
   "source": [
    "### Maximum value of TestScore_1"
   ]
  },
  {
   "cell_type": "code",
   "execution_count": 15,
   "id": "3bbf8884",
   "metadata": {},
   "outputs": [
    {
     "data": {
      "text/plain": [
       "31"
      ]
     },
     "execution_count": 15,
     "metadata": {},
     "output_type": "execute_result"
    }
   ],
   "source": [
    "df['TestScore_1'].max()"
   ]
  },
  {
   "cell_type": "markdown",
   "id": "7f2556cd",
   "metadata": {},
   "source": [
    "### Median value of TestScore_1"
   ]
  },
  {
   "cell_type": "code",
   "execution_count": 16,
   "id": "127946aa",
   "metadata": {},
   "outputs": [
    {
     "data": {
      "text/plain": [
       "4.0"
      ]
     },
     "execution_count": 16,
     "metadata": {},
     "output_type": "execute_result"
    }
   ],
   "source": [
    "df['TestScore_1'].median()"
   ]
  },
  {
   "cell_type": "markdown",
   "id": "5a9f1673",
   "metadata": {},
   "source": [
    "### Sample variance of TestScore_1 values"
   ]
  },
  {
   "cell_type": "code",
   "execution_count": 18,
   "id": "9201f63f",
   "metadata": {},
   "outputs": [
    {
     "data": {
      "text/plain": [
       "186.7"
      ]
     },
     "execution_count": 18,
     "metadata": {},
     "output_type": "execute_result"
    }
   ],
   "source": [
    "df['TestScore_1'].var()"
   ]
  },
  {
   "cell_type": "markdown",
   "id": "d51a79e6",
   "metadata": {},
   "source": [
    "### Sample standard deviation of TestScore_1 values"
   ]
  },
  {
   "cell_type": "code",
   "execution_count": 19,
   "id": "d28c56ce",
   "metadata": {},
   "outputs": [
    {
     "data": {
      "text/plain": [
       "13.663820841916802"
      ]
     },
     "execution_count": 19,
     "metadata": {},
     "output_type": "execute_result"
    }
   ],
   "source": [
    "df['TestScore_1'].std()"
   ]
  },
  {
   "cell_type": "markdown",
   "id": "353a5e6f",
   "metadata": {},
   "source": [
    "### Skewness of preTestScore values"
   ]
  },
  {
   "cell_type": "code",
   "execution_count": 20,
   "id": "eb51a0d6",
   "metadata": {},
   "outputs": [
    {
     "data": {
      "text/plain": [
       "0.7433452457326751"
      ]
     },
     "execution_count": 20,
     "metadata": {},
     "output_type": "execute_result"
    }
   ],
   "source": [
    "df['TestScore_1'].skew()"
   ]
  },
  {
   "cell_type": "markdown",
   "id": "3636c1a5",
   "metadata": {},
   "source": [
    "### Kurtosis of TestScore_1 values"
   ]
  },
  {
   "cell_type": "code",
   "execution_count": 21,
   "id": "3365d3f8",
   "metadata": {},
   "outputs": [
    {
     "data": {
      "text/plain": [
       "-2.4673543738411547"
      ]
     },
     "execution_count": 21,
     "metadata": {},
     "output_type": "execute_result"
    }
   ],
   "source": [
    "df['TestScore_1'].kurt()"
   ]
  },
  {
   "cell_type": "markdown",
   "id": "bb60b67d",
   "metadata": {},
   "source": [
    "### Correlation Matrix Of Values"
   ]
  },
  {
   "cell_type": "code",
   "execution_count": 22,
   "id": "777513b7",
   "metadata": {},
   "outputs": [
    {
     "data": {
      "text/html": [
       "<div>\n",
       "<style scoped>\n",
       "    .dataframe tbody tr th:only-of-type {\n",
       "        vertical-align: middle;\n",
       "    }\n",
       "\n",
       "    .dataframe tbody tr th {\n",
       "        vertical-align: top;\n",
       "    }\n",
       "\n",
       "    .dataframe thead th {\n",
       "        text-align: right;\n",
       "    }\n",
       "</style>\n",
       "<table border=\"1\" class=\"dataframe\">\n",
       "  <thead>\n",
       "    <tr style=\"text-align: right;\">\n",
       "      <th></th>\n",
       "      <th>age</th>\n",
       "      <th>TestScore_1</th>\n",
       "      <th>TestScore_2</th>\n",
       "    </tr>\n",
       "  </thead>\n",
       "  <tbody>\n",
       "    <tr>\n",
       "      <th>age</th>\n",
       "      <td>1.000000</td>\n",
       "      <td>-0.105651</td>\n",
       "      <td>0.328852</td>\n",
       "    </tr>\n",
       "    <tr>\n",
       "      <th>TestScore_1</th>\n",
       "      <td>-0.105651</td>\n",
       "      <td>1.000000</td>\n",
       "      <td>0.378039</td>\n",
       "    </tr>\n",
       "    <tr>\n",
       "      <th>TestScore_2</th>\n",
       "      <td>0.328852</td>\n",
       "      <td>0.378039</td>\n",
       "      <td>1.000000</td>\n",
       "    </tr>\n",
       "  </tbody>\n",
       "</table>\n",
       "</div>"
      ],
      "text/plain": [
       "                  age  TestScore_1  TestScore_2\n",
       "age          1.000000    -0.105651     0.328852\n",
       "TestScore_1 -0.105651     1.000000     0.378039\n",
       "TestScore_2  0.328852     0.378039     1.000000"
      ]
     },
     "execution_count": 22,
     "metadata": {},
     "output_type": "execute_result"
    }
   ],
   "source": [
    "df.corr()"
   ]
  },
  {
   "cell_type": "markdown",
   "id": "4ba1912e",
   "metadata": {},
   "source": [
    "### Covariance Matrix Of Values"
   ]
  },
  {
   "cell_type": "code",
   "execution_count": 23,
   "id": "4c93ca20",
   "metadata": {},
   "outputs": [
    {
     "data": {
      "text/html": [
       "<div>\n",
       "<style scoped>\n",
       "    .dataframe tbody tr th:only-of-type {\n",
       "        vertical-align: middle;\n",
       "    }\n",
       "\n",
       "    .dataframe tbody tr th {\n",
       "        vertical-align: top;\n",
       "    }\n",
       "\n",
       "    .dataframe thead th {\n",
       "        text-align: right;\n",
       "    }\n",
       "</style>\n",
       "<table border=\"1\" class=\"dataframe\">\n",
       "  <thead>\n",
       "    <tr style=\"text-align: right;\">\n",
       "      <th></th>\n",
       "      <th>age</th>\n",
       "      <th>TestScore_1</th>\n",
       "      <th>TestScore_2</th>\n",
       "    </tr>\n",
       "  </thead>\n",
       "  <tbody>\n",
       "    <tr>\n",
       "      <th>age</th>\n",
       "      <td>340.80</td>\n",
       "      <td>-26.65</td>\n",
       "      <td>151.20</td>\n",
       "    </tr>\n",
       "    <tr>\n",
       "      <th>TestScore_1</th>\n",
       "      <td>-26.65</td>\n",
       "      <td>186.70</td>\n",
       "      <td>128.65</td>\n",
       "    </tr>\n",
       "    <tr>\n",
       "      <th>TestScore_2</th>\n",
       "      <td>151.20</td>\n",
       "      <td>128.65</td>\n",
       "      <td>620.30</td>\n",
       "    </tr>\n",
       "  </tbody>\n",
       "</table>\n",
       "</div>"
      ],
      "text/plain": [
       "                age  TestScore_1  TestScore_2\n",
       "age          340.80       -26.65       151.20\n",
       "TestScore_1  -26.65       186.70       128.65\n",
       "TestScore_2  151.20       128.65       620.30"
      ]
     },
     "execution_count": 23,
     "metadata": {},
     "output_type": "execute_result"
    }
   ],
   "source": [
    "df.cov()"
   ]
  },
  {
   "cell_type": "code",
   "execution_count": null,
   "id": "8ebb4db9",
   "metadata": {},
   "outputs": [],
   "source": []
  }
 ],
 "metadata": {
  "kernelspec": {
   "display_name": "Python 3",
   "language": "python",
   "name": "python3"
  },
  "language_info": {
   "codemirror_mode": {
    "name": "ipython",
    "version": 3
   },
   "file_extension": ".py",
   "mimetype": "text/x-python",
   "name": "python",
   "nbconvert_exporter": "python",
   "pygments_lexer": "ipython3",
   "version": "3.8.8"
  }
 },
 "nbformat": 4,
 "nbformat_minor": 5
}
